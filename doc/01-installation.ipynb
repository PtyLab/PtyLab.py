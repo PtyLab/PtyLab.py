{
 "cells": [
  {
   "cell_type": "markdown",
   "metadata": {},
   "source": [
    "# Installing Fracpy\n",
    "The most convenient way to install all the dependencies for Fracpy is by using the Anaconda distribution of Python. The procedure below was only tested on Windows 10.\n",
    "\n",
    "* Ask to get access to the GitLab page\n",
    "* Download and install Anaconda from [its webpage](https://www.anaconda.com/products/individual). The default settings are fine.\n",
    "* Download and install git from [its webpage](https://git-scm.com/downloads). The default settings are fine.\n",
    "* Create an SSH key and add it to GitLab:\n",
    "  * Open \"git bash\" (installed in the previous step)\n",
    "  * Run `ssh-keygen -t ed25519`. The default location is good. You can choose to add a password, but you will need to enter it every time you want to interact with the GitLab server (e.g. when downloading FracPy). The command will generate two files in ~/.ssh: id_ed25519 and id_ed25519.pub. You can freely share the .pub file, but you should keep the id_ed25519 file private as anyone with access to it can pretend to be you on GitLab.\n",
    "  * Add your key to GitLab. Run `cat ~/.ssh/id_ed25519.pub` and copy the output to the clipboard. Then go to settings in the GitLab webpage (top right corner). On the left you'll now find a tab called \"SSH Keys\". Click it and paste your key in the text box. Now click \"Add key\" and the key should be accepted.\n",
    "* Clone the FracPy repository. The most straightforward way to do this is as follows:\n",
    "  * Still in the \"git bash\", change to the correct directory. E.g. run `cd /c/Users/MYUSERNAME/Documents` to download FracPy to My Documents.\n",
    "  * Run `git clone git@gitlab.com:fracpty/fracpy.git`. This will download the latest version of FracPy.\n",
    "* Setup dependencies:\n",
    "  * Open Spyder (which is installed with Anaconda).\n",
    "  * Open and run `setup.py` from the fracpy folder.\n",
    "* Finally it is recommended to perform calculations on the GPU instead of the CPU. FracPy uses cupy for this. Installation instructions can be found here: https://docs.cupy.dev/en/stable/install.html and consist of \n",
    "  * installing the CUDA toolkit from https://developer.nvidia.com/cuda-downloads\n",
    "  * installing cupy itself. The easiest method is to start Spyder and type \"pip install cupy-cudaXXX\", where XXX are the three digits of the CUDA version number (currently 111)."
   ]
  }
 ],
 "metadata": {
  "kernelspec": {
   "display_name": "Python 3",
   "language": "python",
   "name": "python3"
  },
  "language_info": {
   "codemirror_mode": {
    "name": "ipython",
    "version": 3
   },
   "file_extension": ".py",
   "mimetype": "text/x-python",
   "name": "python",
   "nbconvert_exporter": "python",
   "pygments_lexer": "ipython3",
   "version": "3.8.3"
  }
 },
 "nbformat": 4,
 "nbformat_minor": 4
}
