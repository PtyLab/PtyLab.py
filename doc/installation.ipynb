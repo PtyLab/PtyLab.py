# Installing Fracpy
The most convenient way to install all the dependencies for Fracpy is by using the Anaconda distribution of Python. The procedure below was only tested on Windows 10.

* Ask to get access to the GitLab page
* Download and install Anaconda from [its webpage](https://www.anaconda.com/products/individual). The default settings are fine.
* Download and install git from [its webpage](https://git-scm.com/downloads). The default settings are fine.
* Create an SSH key and add it to GitLab:
  * Open "git bash" (installed in the previous step)
  * Run `ssh-keygen -t ed25519`. The default location is good. You can choose to add a password, but you will need to enter it every time you want to interact with the GitLab server (e.g. when downloading FracPy). The command will generate two files in ~/.ssh: id_ed25519 and id_ed25519.pub. You can freely share the .pub file, but you should keep the id_ed25519 file private as anyone with access to it can pretend to be you on GitLab.
  * Add your key to GitLab. Run `cat ~/.ssh/id_ed25519.pub` and copy the output to the clipboard. Then go to settings in the GitLab webpage (top right corner). On the left you'll now find a tab called "SSH Keys". Click it and paste your key in the text box. Now click "Add key" and the key should be accepted.
* Clone the FracPy repository. The most straightforward way to do this is as follows:
  * Still in the "git bash", change to the correct directory. E.g. run `cd /c/Users/MYUSERNAME/Documents` to download FracPy to My Documents.
  * Run `git clone git@gitlab.com:fracpty/fracpy.git`. This will download the latest version of FracPy.
* Setup dependencies:
  * Open Spyder (which is installed with Anaconda).
  * Open and run `setup.py` from the fracpy folder. This will finalize the installation of FracPy.
