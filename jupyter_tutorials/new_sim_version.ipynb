{
 "cells": [
  {
   "cell_type": "markdown",
   "metadata": {},
   "source": [
    "# ptyLab simulation tutorial\n",
    "At this point it is assumed that ptyLab has already been successfully installed. In this short tutorial we will simulate a conventional ptychography experiment. To simulate a ptychography experiment the following steps have to be performed.\n",
    "\n",
    "1. The geometry of the experiment needs to be specified. The following variables need to be defined.\n",
    "    - Wavelength of the illuminating beam\n",
    "    - Sample to detector distance (z0)\n",
    "    - Detector pixel number (Nd)\n",
    "    - Detector pixel size (dxd)\n",
    "2. The illuminating beam (which we refer to as probe) has to be defined \n",
    "3. The object to be simulated needs to be defined\n",
    "4. The scan grid, i.e. the coordinates with which the object is scanned, must be generated.\n",
    "5. For each position a diffraction pattern needs to be calculated.\n",
    "\n",
    "Finally, at the end of this tutorial, the object is reconstructed from the created diffraction images."
   ]
  },
  {
   "cell_type": "markdown",
   "metadata": {},
   "source": [
    "## 1. Geometry of the experiment\n",
    "\n",
    "Before we can get start we need to import all necessary packages."
   ]
  },
  {
   "cell_type": "code",
   "execution_count": 1,
   "metadata": {},
   "outputs": [
    {
     "name": "stdout",
     "output_type": "stream",
     "text": [
      "Wrong skimage version installed\n",
      "Cupy not available, will not be able to run GPU based computation\n",
      "Cupy not installed\n",
      "Cupy not available, will not be able to run GPU based computation\n",
      "Cupy not available, will not be able to run GPU based computation\n",
      "Cupy not available, will not be able to run GPU based computation\n",
      "Cupy not available, will not be able to run GPU based computation\n",
      "Cupy not available, will not be able to run GPU based computation\n",
      "Cupy not available, will not be able to run GPU based computation\n",
      "Cupy not available, will not be able to run GPU based computation\n",
      "Cupy not available, will not be able to run GPU based computation\n"
     ]
    }
   ],
   "source": [
    "# this makes the plots inline, if you want the plot windows out, uncomment the two lines below\n",
    "# %matplotlib notebook \n",
    "import matplotlib\n",
    "matplotlib.use('tkagg')\n",
    "\n",
    "# First all required modules must be imported\n",
    "import numpy as np\n",
    "from fracPy.utils.utils import circ, gaussian2D, cart2pol\n",
    "from fracPy.utils.scanGrids import GenerateNonUniformFermat\n",
    "from fracPy.operators.Operators import aspw\n",
    "from fracPy.utils.visualisation import hsvplot, show3Dslider\n",
    "import matplotlib.pylab as plt\n",
    "from scipy.signal import convolve2d\n",
    "import os\n",
    "import h5py\n"
   ]
  },
  {
   "cell_type": "markdown",
   "metadata": {},
   "source": [
    "In the next step we define the geometry of the experiment and calculate the grids in the sample and detector plane."
   ]
  },
  {
   "cell_type": "code",
   "execution_count": 2,
   "metadata": {},
   "outputs": [],
   "source": [
    "# Set the geometry of the Experiment\n",
    "wavelength = 632.8e-9\n",
    "zo = 5e-2\n",
    "Nd = 2**7\n",
    "dxd = 16 * 4.5e-6\n",
    "\n",
    "# Calculate the length of the detector\n",
    "Ld = Nd * dxd\n",
    "\n",
    "# probe coordinates\n",
    "dxp = wavelength * zo / Ld\n",
    "Np = Nd\n",
    "Lp = dxp*Np\n",
    "xp = np.arange(-Np//2,Np//2)*dxp\n",
    "Xp,Yp = np.meshgrid(xp,xp)\n",
    "\n",
    "# object coordinates\n",
    "No = 2**10+2**9\n",
    "dxo = dxp\n",
    "Lo = dxo * No\n",
    "xo = np.arange(-No//2,No//2)*dxo\n",
    "Xo,Yo = np.meshgrid(xo,xo)\n"
   ]
  },
  {
   "cell_type": "markdown",
   "metadata": {},
   "source": [
    "## 2. Definition of the illuminating beam\n",
    "In the next step we define the beam (probe), which we want to use for our simulation. Here, simulate a pinhole by using a simple circular function and convolve the result with a gaussian kernel."
   ]
  },
  {
   "cell_type": "code",
   "execution_count": 3,
   "metadata": {},
   "outputs": [],
   "source": [
    "# generate illumination\n",
    "# note: simulate focused beam\n",
    "# goal: 1:1 image iris through (low-NA) lens with focal length f onto an object\n",
    "f = 5e-3 # focal length of lens, creating a focused probe\n",
    "pinhole = circ(Xp, Yp, Lp/2)\n",
    "pinhole = convolve2d(pinhole, gaussian2D(5, 1).astype(np.float32), mode='same')\n"
   ]
  },
  {
   "cell_type": "markdown",
   "metadata": {},
   "source": [
    "Next, we propagate probe on the sample using a propagator and use the matplotlib to plot the probe."
   ]
  },
  {
   "cell_type": "code",
   "execution_count": 4,
   "metadata": {},
   "outputs": [],
   "source": [
    "# propagate to lens\n",
    "probe = aspw(pinhole, 2 * f, wavelength, Lp)[0]\n",
    "\n",
    "# multiply with quadratic phase and aperture\n",
    "aperture = circ(Xp, Yp, 3*Lp/4)\n",
    "aperture = convolve2d(aperture, gaussian2D(5, 3).astype(np.float32), mode='same')\n",
    "probe = probe * np.exp(-1.j*2*np.pi/wavelength*(Xp**2+Yp**2)/(2*f)) * aperture\n",
    "probe = aspw(probe, 2*f, wavelength, Lp)[0]\n",
    "\n",
    "plt.figure(figsize=(5,5), num=1)\n",
    "ax1 = plt.subplot(121)\n",
    "hsvplot(probe, ax=ax1, pixelSize=dxp)\n",
    "ax1.set_title('complex probe')\n",
    "plt.subplot(122)\n",
    "plt.imshow(abs(probe)**2)\n",
    "plt.title('probe intensity')\n",
    "plt.show(block=False)"
   ]
  },
  {
   "cell_type": "markdown",
   "metadata": {},
   "source": [
    "## 3. Definition of an object\n",
    "In this example we define a binary spiral as a test object."
   ]
  },
  {
   "cell_type": "code",
   "execution_count": 5,
   "metadata": {},
   "outputs": [],
   "source": [
    "# generate object\n",
    "d = 1e-3   # the smaller this parameter the larger the spatial frequencies in the simulated object\n",
    "b = 33     # topological charge (feel free to play with this number)\n",
    "theta, rho = cart2pol(Xo, Yo)\n",
    "t = (1 + np.sign(np.sin(b * theta + 2*np.pi * (rho/d)**2)))/2\n",
    "t = t*circ(Xo, Yo, Lo)*(1-circ(Xo, Yo, 200*dxo))\\\n",
    "    +circ(Xo, Yo, 130*dxo)\n",
    "obj = convolve2d(t, gaussian2D(5, 3), mode='same')  # smooth edges\n",
    "\n",
    "plt.figure(figsize=(5,5))\n",
    "ax = plt.axes()\n",
    "hsvplot(np.squeeze(obj), ax=ax)\n",
    "ax.set_title('complex Object')\n",
    "plt.show(block=False)"
   ]
  },
  {
   "cell_type": "markdown",
   "metadata": {},
   "source": [
    "## 4. Definition of the scan map\n",
    "In the next step we create a scan grid with 100 points. For this purpose, we use a ptyLab internal function that generates a grid in which the scan points are distributed as homogeneously as possible (Fermat's spiral)."
   ]
  },
  {
   "cell_type": "code",
   "execution_count": 6,
   "metadata": {
    "scrolled": true
   },
   "outputs": [],
   "source": [
    "numPoints = 100   # number of points\n",
    "radius = 100    # radius of final scan grid (in pixels)\n",
    "p = 1    # p = 1 is standard Fermat;  p > 1 yields more points towards the center of grid\n",
    "R, C = GenerateNonUniformFermat(numPoints, radius=radius, power=p)\n",
    "\n",
    "# show scan grid\n",
    "plt.figure(figsize=(5, 5))\n",
    "plt.plot(R, C, 'o')\n",
    "plt.title('scan grid')\n",
    "plt.show(block=False)"
   ]
  },
  {
   "cell_type": "markdown",
   "metadata": {},
   "source": [
    "Some text goes here!!!!!!!!!!!!"
   ]
  },
  {
   "cell_type": "code",
   "execution_count": 7,
   "metadata": {},
   "outputs": [],
   "source": [
    "encoder = np.vstack((R*dxo, C*dxo)).T\n",
    "\n",
    "# prevent negative indices by centering spiral coordinates on object\n",
    "positions = np.round(encoder/dxo)\n",
    "offset = 50\n",
    "positions = (positions+No//2-Np//2+offset).astype(int)\n",
    "\n",
    "# get number of positions\n",
    "numFrames = len(R)\n",
    "beamSize = np.sqrt(np.sum((Xp**2+Yp**2)*np.abs(probe)**2)/np.sum(abs(probe)**2))*2.355\n",
    "\n",
    "# show scan grid on object\n",
    "plt.figure(figsize=(5,5))\n",
    "ax1 = plt.axes()\n",
    "hsvplot(np.squeeze(obj), ax=ax1)\n",
    "ax1.plot(positions[:,1] + Np//2, positions[:,0] + Np//2, '.', c=\"red\")\n",
    "ax1.set_title('Scan grid on sample')\n",
    "plt.show()"
   ]
  },
  {
   "cell_type": "markdown",
   "metadata": {},
   "source": [
    "## 5. Calculate diffraction data\n",
    "Next, we calculate ...."
   ]
  },
  {
   "cell_type": "code",
   "execution_count": 8,
   "metadata": {},
   "outputs": [],
   "source": [
    "# set data\n",
    "entrancePupilDiameter = beamSize\n",
    "\n",
    "# generate ptychogram\n",
    "ptychogram = np.zeros((numFrames, Nd, Nd))\n",
    "\n",
    "for loop in np.arange(numFrames):\n",
    "    # get object patch\n",
    "    row, col = positions[loop]\n",
    "    sy = slice(row, row + Np)\n",
    "    sx = slice(col, col + Np)\n",
    "    # note that object patch has size of probe array\n",
    "    objectPatch = obj[..., sy, sx].copy()\n",
    "    # multiply each probe mode with object patch\n",
    "    esw = objectPatch*probe\n",
    "    # generate diffraction data, propagate the esw to the detector plane\n",
    "    ESW = np.fft.fftshift(np.fft.fft2(np.fft.ifftshift(esw), norm='ortho'))\n",
    "    # save data in ptychogram\n",
    "    ptychogram[loop] = abs(ESW)**2\n",
    "    # inspect diffraction data\n",
    "\n",
    "# compare noiseless data noisy\n",
    "show3Dslider(np.log(ptychogram))"
   ]
  },
  {
   "cell_type": "markdown",
   "metadata": {},
   "source": [
    "## 6. Reconstruction of the simulated data\n",
    "\n",
    "Some text needs to be added here."
   ]
  },
  {
   "cell_type": "code",
   "execution_count": 9,
   "metadata": {},
   "outputs": [
    {
     "ename": "AttributeError",
     "evalue": "'ExperimentalData' object has no attribute 'theta'",
     "output_type": "error",
     "traceback": [
      "\u001b[1;31m---------------------------------------------------------------------------\u001b[0m",
      "\u001b[1;31mAttributeError\u001b[0m                            Traceback (most recent call last)",
      "\u001b[1;32m<ipython-input-9-b7c726b07636>\u001b[0m in \u001b[0;36m<module>\u001b[1;34m\u001b[0m\n\u001b[0;32m     22\u001b[0m \u001b[0mexampleData\u001b[0m\u001b[1;33m.\u001b[0m\u001b[0mencoder\u001b[0m \u001b[1;33m=\u001b[0m \u001b[0mencoder\u001b[0m\u001b[1;33m\u001b[0m\u001b[1;33m\u001b[0m\u001b[0m\n\u001b[0;32m     23\u001b[0m \u001b[1;33m\u001b[0m\u001b[0m\n\u001b[1;32m---> 24\u001b[1;33m \u001b[0mreconstruction\u001b[0m \u001b[1;33m=\u001b[0m \u001b[0mfracPy\u001b[0m\u001b[1;33m.\u001b[0m\u001b[0mReconstruction\u001b[0m\u001b[1;33m(\u001b[0m\u001b[0mexampleData\u001b[0m\u001b[1;33m)\u001b[0m\u001b[1;33m\u001b[0m\u001b[1;33m\u001b[0m\u001b[0m\n\u001b[0m\u001b[0;32m     25\u001b[0m \u001b[0mreconstruction\u001b[0m\u001b[1;33m.\u001b[0m\u001b[0mnpsm\u001b[0m \u001b[1;33m=\u001b[0m \u001b[1;36m1\u001b[0m \u001b[1;31m# Number of probe modes to reconstruct\u001b[0m\u001b[1;33m\u001b[0m\u001b[1;33m\u001b[0m\u001b[0m\n\u001b[0;32m     26\u001b[0m \u001b[0mreconstruction\u001b[0m\u001b[1;33m.\u001b[0m\u001b[0mnosm\u001b[0m \u001b[1;33m=\u001b[0m \u001b[1;36m1\u001b[0m \u001b[1;31m# Number of object modes to reconstruct\u001b[0m\u001b[1;33m\u001b[0m\u001b[1;33m\u001b[0m\u001b[0m\n",
      "\u001b[1;32md:\\git\\fracpy\\fracPy\\Reconstruction\\Reconstruction.py\u001b[0m in \u001b[0;36m__init__\u001b[1;34m(self, data)\u001b[0m\n\u001b[0;32m     39\u001b[0m         \u001b[0mself\u001b[0m\u001b[1;33m.\u001b[0m\u001b[0mlogger\u001b[0m \u001b[1;33m=\u001b[0m \u001b[0mlogging\u001b[0m\u001b[1;33m.\u001b[0m\u001b[0mgetLogger\u001b[0m\u001b[1;33m(\u001b[0m\u001b[1;34m'Reconstruction'\u001b[0m\u001b[1;33m)\u001b[0m\u001b[1;33m\u001b[0m\u001b[1;33m\u001b[0m\u001b[0m\n\u001b[0;32m     40\u001b[0m         \u001b[0mself\u001b[0m\u001b[1;33m.\u001b[0m\u001b[0mdata\u001b[0m \u001b[1;33m=\u001b[0m \u001b[0mdata\u001b[0m\u001b[1;33m\u001b[0m\u001b[1;33m\u001b[0m\u001b[0m\n\u001b[1;32m---> 41\u001b[1;33m         \u001b[0mself\u001b[0m\u001b[1;33m.\u001b[0m\u001b[0mcopyAttributesFromExperiment\u001b[0m\u001b[1;33m(\u001b[0m\u001b[0mdata\u001b[0m\u001b[1;33m)\u001b[0m\u001b[1;33m\u001b[0m\u001b[1;33m\u001b[0m\u001b[0m\n\u001b[0m\u001b[0;32m     42\u001b[0m         \u001b[0mself\u001b[0m\u001b[1;33m.\u001b[0m\u001b[0mcomputeParameters\u001b[0m\u001b[1;33m(\u001b[0m\u001b[1;33m)\u001b[0m\u001b[1;33m\u001b[0m\u001b[1;33m\u001b[0m\u001b[0m\n\u001b[0;32m     43\u001b[0m         \u001b[0mself\u001b[0m\u001b[1;33m.\u001b[0m\u001b[0minitializeSettings\u001b[0m\u001b[1;33m(\u001b[0m\u001b[1;33m)\u001b[0m\u001b[1;33m\u001b[0m\u001b[1;33m\u001b[0m\u001b[0m\n",
      "\u001b[1;32md:\\git\\fracpy\\fracPy\\Reconstruction\\Reconstruction.py\u001b[0m in \u001b[0;36mcopyAttributesFromExperiment\u001b[1;34m(self, data)\u001b[0m\n\u001b[0;32m     55\u001b[0m             \u001b[0mself\u001b[0m\u001b[1;33m.\u001b[0m\u001b[0mlogger\u001b[0m\u001b[1;33m.\u001b[0m\u001b[0mdebug\u001b[0m\u001b[1;33m(\u001b[0m\u001b[1;34m'Copying attribute %s'\u001b[0m\u001b[1;33m,\u001b[0m \u001b[0mkey\u001b[0m\u001b[1;33m)\u001b[0m\u001b[1;33m\u001b[0m\u001b[1;33m\u001b[0m\u001b[0m\n\u001b[0;32m     56\u001b[0m             \u001b[1;31m# setattr(self, key, copy(np.array(getattr(data, key))))\u001b[0m\u001b[1;33m\u001b[0m\u001b[1;33m\u001b[0m\u001b[1;33m\u001b[0m\u001b[0m\n\u001b[1;32m---> 57\u001b[1;33m             \u001b[0msetattr\u001b[0m\u001b[1;33m(\u001b[0m\u001b[0mself\u001b[0m\u001b[1;33m,\u001b[0m \u001b[0mkey\u001b[0m\u001b[1;33m,\u001b[0m \u001b[0mcopy\u001b[0m\u001b[1;33m(\u001b[0m\u001b[0mgetattr\u001b[0m\u001b[1;33m(\u001b[0m\u001b[0mdata\u001b[0m\u001b[1;33m,\u001b[0m \u001b[0mkey\u001b[0m\u001b[1;33m)\u001b[0m\u001b[1;33m)\u001b[0m\u001b[1;33m)\u001b[0m\u001b[1;33m\u001b[0m\u001b[1;33m\u001b[0m\u001b[0m\n\u001b[0m\u001b[0;32m     58\u001b[0m \u001b[1;33m\u001b[0m\u001b[0m\n\u001b[0;32m     59\u001b[0m     \u001b[1;32mdef\u001b[0m \u001b[0mcomputeParameters\u001b[0m\u001b[1;33m(\u001b[0m\u001b[0mself\u001b[0m\u001b[1;33m)\u001b[0m\u001b[1;33m:\u001b[0m\u001b[1;33m\u001b[0m\u001b[1;33m\u001b[0m\u001b[0m\n",
      "\u001b[1;31mAttributeError\u001b[0m: 'ExperimentalData' object has no attribute 'theta'"
     ]
    }
   ],
   "source": [
    "import fracPy\n",
    "from fracPy import ExperimentalData\n",
    "# from fracPy.Monitors.Monitor import Monitor\n",
    "# from fracPy.Params.ReconstructionParameters import Reconstruction_parameters\n",
    "from fracPy import Engines\n",
    "\n",
    "# optimizable, exampleData, params, monitor, ePIE_engine = fracPy.easy_initialize(filePath)\n",
    "\n",
    "exampleData = ExperimentalData()\n",
    "exampleData.ptychogram = ptychogram\n",
    "exampleData.dxd = dxd\n",
    "exampleData.Nd = Nd\n",
    "exampleData.wavelength = wavelength\n",
    "exampleData.spectralDensity = None\n",
    "exampleData.zled = None\n",
    "exampleData.zo = zo\n",
    "exampleData.operationMode = 'CPM'\n",
    "exampleData.dxp = dxp\n",
    "exampleData.No = No\n",
    "exampleData.entrancePupilDiameter = None\n",
    "exampleData._setData()\n",
    "exampleData.encoder = encoder\n",
    "\n",
    "reconstruction = fracPy.Reconstruction(exampleData)\n",
    "reconstruction.npsm = 1 # Number of probe modes to reconstruct\n",
    "reconstruction.nosm = 1 # Number of object modes to reconstruct\n",
    "reconstruction.nlambda = 1 # len(exampleData.spectralDensity) # Number of wavelength\n",
    "reconstruction.nslice = 1 # Number of object slice\n",
    "\n",
    "reconstruction.initialProbe = 'circ'\n",
    "exampleData.entrancePupilDiameter = reconstruction.Np / 3 * reconstruction.dxp  # initial estimate of beam\n",
    "reconstruction.initialObject = 'ones'\n",
    "\n",
    "# initialize probe and object and related params\n",
    "reconstruction.prepare_reconstruction()\n",
    "\n",
    "# customize initial probe quadratic phase\n",
    "reconstruction.probe = reconstruction.probe*np.exp(1.j*2*np.pi/reconstruction.wavelength *\n",
    "                                             (reconstruction.Xp**2+reconstruction.Yp**2)/(2*6e-3))\n",
    "\n",
    "monitor = fracPy.Monitor()\n",
    "monitor.figureUpdateFrequency = 1\n",
    "monitor.objectPlot = 'complex'  # complex abs angle\n",
    "monitor.verboseLevel = 'high'  # high: plot two figures, low: plot only one figure\n",
    "monitor.objectPlotZoom = 1.5   # control object plot FoV\n",
    "monitor.probePlotZoom = 0.5   # control probe plot FoV\n",
    "\n",
    "params = fracPy.Params()\n",
    "## main parameters\n",
    "params.positionOrder = 'random'  # 'sequential' or 'random'\n",
    "params.propagator = 'Fresnel'  # Fraunhofer Fresnel ASP scaledASP polychromeASP scaledPolychromeASP\n",
    "\n",
    "\n",
    "## how do we want to reconstruct?\n",
    "params.gpuSwitch = False\n",
    "params.probePowerCorrectionSwitch = True\n",
    "params.modulusEnforcedProbeSwitch = False\n",
    "params.comStabilizationSwitch = True\n",
    "params.orthogonalizationSwitch = False\n",
    "params.orthogonalizationFrequency = 10\n",
    "params.fftshiftSwitch = False\n",
    "params.intensityConstraint = 'standard'  # standard fluctuation exponential poission\n",
    "params.absorbingProbeBoundary = False\n",
    "params.objectContrastSwitch = False\n",
    "params.absObjectSwitch = False\n",
    "params.backgroundModeSwitch = False\n",
    "params.couplingSwitch = True\n",
    "params.couplingAleph = 1\n",
    "params.positionCorrectionSwitch = False\n",
    "\n",
    "# mPIE\n",
    "engine_mPIE = Engines.mPIE(reconstruction, exampleData, params, monitor)\n",
    "engine_mPIE.numIterations = 5\n",
    "engine_mPIE.betaProbe = 0.25\n",
    "engine_mPIE.betaObject = 0.25\n",
    "engine_mPIE.doReconstruction()\n",
    "\n",
    "# do another round of mPIE\n",
    "engine_mPIE.doReconstruction()\n"
   ]
  },
  {
   "cell_type": "code",
   "execution_count": null,
   "metadata": {},
   "outputs": [],
   "source": []
  }
 ],
 "metadata": {
  "kernelspec": {
   "display_name": "Python 3",
   "language": "python",
   "name": "python3"
  },
  "language_info": {
   "codemirror_mode": {
    "name": "ipython",
    "version": 3
   },
   "file_extension": ".py",
   "mimetype": "text/x-python",
   "name": "python",
   "nbconvert_exporter": "python",
   "pygments_lexer": "ipython3",
   "version": "3.7.6"
  }
 },
 "nbformat": 4,
 "nbformat_minor": 4
}
